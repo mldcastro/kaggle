{
 "cells": [
  {
   "cell_type": "code",
   "execution_count": 1,
   "metadata": {
    "execution": {
     "iopub.execute_input": "2022-11-29T10:03:28.086933Z",
     "iopub.status.busy": "2022-11-29T10:03:28.086595Z",
     "iopub.status.idle": "2022-11-29T10:03:28.731781Z",
     "shell.execute_reply": "2022-11-29T10:03:28.731137Z",
     "shell.execute_reply.started": "2022-11-29T10:03:28.086859Z"
    },
    "tags": []
   },
   "outputs": [],
   "source": [
    "import numpy as np\n",
    "import random\n",
    "import pandas as pd\n",
    "import matplotlib.pyplot as plt\n",
    "import matplotlib as mpl\n",
    "\n",
    "\n",
    "from typing import Literal, Any, Union, Callable\n",
    "\n",
    "\n",
    "mpl.rcParams[\"axes.grid\"] = True\n",
    "mpl.rcParams[\"axes.axisbelow\"] = True\n",
    "mpl.rcParams[\"grid.color\"] = \"gainsboro\""
   ]
  },
  {
   "cell_type": "markdown",
   "metadata": {},
   "source": [
    "# Set Random State"
   ]
  },
  {
   "cell_type": "code",
   "execution_count": 2,
   "metadata": {
    "execution": {
     "iopub.execute_input": "2022-11-29T10:03:28.733045Z",
     "iopub.status.busy": "2022-11-29T10:03:28.732667Z",
     "iopub.status.idle": "2022-11-29T10:03:28.737607Z",
     "shell.execute_reply": "2022-11-29T10:03:28.736812Z",
     "shell.execute_reply.started": "2022-11-29T10:03:28.733021Z"
    }
   },
   "outputs": [],
   "source": [
    "SEED = 43765238\n",
    "\n",
    "np.random.seed(SEED)\n",
    "random.seed(SEED)"
   ]
  },
  {
   "cell_type": "markdown",
   "metadata": {},
   "source": [
    "# Load datasets"
   ]
  },
  {
   "cell_type": "code",
   "execution_count": 3,
   "metadata": {
    "execution": {
     "iopub.execute_input": "2022-11-29T10:03:28.741714Z",
     "iopub.status.busy": "2022-11-29T10:03:28.741400Z",
     "iopub.status.idle": "2022-11-29T10:03:29.166454Z",
     "shell.execute_reply": "2022-11-29T10:03:29.165439Z",
     "shell.execute_reply.started": "2022-11-29T10:03:28.741687Z"
    },
    "tags": []
   },
   "outputs": [],
   "source": [
    "PATH_TRAIN_DATASET = \"../../datasets/train.csv\"\n",
    "PATH_TEST_DATASET = \"../../datasets/test.csv\"\n",
    "\n",
    "train_df = pd.read_csv(PATH_TRAIN_DATASET, index_col=0)\n",
    "test_df = pd.read_csv(PATH_TEST_DATASET, index_col=0)"
   ]
  },
  {
   "cell_type": "markdown",
   "metadata": {},
   "source": [
    "# Explore train data"
   ]
  },
  {
   "cell_type": "code",
   "execution_count": 4,
   "metadata": {
    "execution": {
     "iopub.execute_input": "2022-11-29T10:03:29.168361Z",
     "iopub.status.busy": "2022-11-29T10:03:29.167889Z",
     "iopub.status.idle": "2022-11-29T10:03:29.481503Z",
     "shell.execute_reply": "2022-11-29T10:03:29.480439Z",
     "shell.execute_reply.started": "2022-11-29T10:03:29.168316Z"
    }
   },
   "outputs": [
    {
     "data": {
      "text/html": [
       "<div>\n",
       "<style scoped>\n",
       "    .dataframe tbody tr th:only-of-type {\n",
       "        vertical-align: middle;\n",
       "    }\n",
       "\n",
       "    .dataframe tbody tr th {\n",
       "        vertical-align: top;\n",
       "    }\n",
       "\n",
       "    .dataframe thead th {\n",
       "        text-align: right;\n",
       "    }\n",
       "</style>\n",
       "<table border=\"1\" class=\"dataframe\">\n",
       "  <thead>\n",
       "    <tr style=\"text-align: right;\">\n",
       "      <th></th>\n",
       "      <th>Survived</th>\n",
       "      <th>Pclass</th>\n",
       "      <th>Name</th>\n",
       "      <th>Sex</th>\n",
       "      <th>Age</th>\n",
       "      <th>SibSp</th>\n",
       "      <th>Parch</th>\n",
       "      <th>Ticket</th>\n",
       "      <th>Fare</th>\n",
       "      <th>Cabin</th>\n",
       "      <th>Embarked</th>\n",
       "    </tr>\n",
       "    <tr>\n",
       "      <th>PassengerId</th>\n",
       "      <th></th>\n",
       "      <th></th>\n",
       "      <th></th>\n",
       "      <th></th>\n",
       "      <th></th>\n",
       "      <th></th>\n",
       "      <th></th>\n",
       "      <th></th>\n",
       "      <th></th>\n",
       "      <th></th>\n",
       "      <th></th>\n",
       "    </tr>\n",
       "  </thead>\n",
       "  <tbody>\n",
       "    <tr>\n",
       "      <th>1</th>\n",
       "      <td>0</td>\n",
       "      <td>3</td>\n",
       "      <td>Braund, Mr. Owen Harris</td>\n",
       "      <td>male</td>\n",
       "      <td>22.0</td>\n",
       "      <td>1</td>\n",
       "      <td>0</td>\n",
       "      <td>A/5 21171</td>\n",
       "      <td>7.2500</td>\n",
       "      <td>NaN</td>\n",
       "      <td>S</td>\n",
       "    </tr>\n",
       "    <tr>\n",
       "      <th>2</th>\n",
       "      <td>1</td>\n",
       "      <td>1</td>\n",
       "      <td>Cumings, Mrs. John Bradley (Florence Briggs Th...</td>\n",
       "      <td>female</td>\n",
       "      <td>38.0</td>\n",
       "      <td>1</td>\n",
       "      <td>0</td>\n",
       "      <td>PC 17599</td>\n",
       "      <td>71.2833</td>\n",
       "      <td>C85</td>\n",
       "      <td>C</td>\n",
       "    </tr>\n",
       "    <tr>\n",
       "      <th>3</th>\n",
       "      <td>1</td>\n",
       "      <td>3</td>\n",
       "      <td>Heikkinen, Miss. Laina</td>\n",
       "      <td>female</td>\n",
       "      <td>26.0</td>\n",
       "      <td>0</td>\n",
       "      <td>0</td>\n",
       "      <td>STON/O2. 3101282</td>\n",
       "      <td>7.9250</td>\n",
       "      <td>NaN</td>\n",
       "      <td>S</td>\n",
       "    </tr>\n",
       "    <tr>\n",
       "      <th>4</th>\n",
       "      <td>1</td>\n",
       "      <td>1</td>\n",
       "      <td>Futrelle, Mrs. Jacques Heath (Lily May Peel)</td>\n",
       "      <td>female</td>\n",
       "      <td>35.0</td>\n",
       "      <td>1</td>\n",
       "      <td>0</td>\n",
       "      <td>113803</td>\n",
       "      <td>53.1000</td>\n",
       "      <td>C123</td>\n",
       "      <td>S</td>\n",
       "    </tr>\n",
       "    <tr>\n",
       "      <th>5</th>\n",
       "      <td>0</td>\n",
       "      <td>3</td>\n",
       "      <td>Allen, Mr. William Henry</td>\n",
       "      <td>male</td>\n",
       "      <td>35.0</td>\n",
       "      <td>0</td>\n",
       "      <td>0</td>\n",
       "      <td>373450</td>\n",
       "      <td>8.0500</td>\n",
       "      <td>NaN</td>\n",
       "      <td>S</td>\n",
       "    </tr>\n",
       "  </tbody>\n",
       "</table>\n",
       "</div>"
      ],
      "text/plain": [
       "             Survived  Pclass  \\\n",
       "PassengerId                     \n",
       "1                   0       3   \n",
       "2                   1       1   \n",
       "3                   1       3   \n",
       "4                   1       1   \n",
       "5                   0       3   \n",
       "\n",
       "                                                          Name     Sex   Age  \\\n",
       "PassengerId                                                                    \n",
       "1                                      Braund, Mr. Owen Harris    male  22.0   \n",
       "2            Cumings, Mrs. John Bradley (Florence Briggs Th...  female  38.0   \n",
       "3                                       Heikkinen, Miss. Laina  female  26.0   \n",
       "4                 Futrelle, Mrs. Jacques Heath (Lily May Peel)  female  35.0   \n",
       "5                                     Allen, Mr. William Henry    male  35.0   \n",
       "\n",
       "             SibSp  Parch            Ticket     Fare Cabin Embarked  \n",
       "PassengerId                                                          \n",
       "1                1      0         A/5 21171   7.2500   NaN        S  \n",
       "2                1      0          PC 17599  71.2833   C85        C  \n",
       "3                0      0  STON/O2. 3101282   7.9250   NaN        S  \n",
       "4                1      0            113803  53.1000  C123        S  \n",
       "5                0      0            373450   8.0500   NaN        S  "
      ]
     },
     "execution_count": 4,
     "metadata": {},
     "output_type": "execute_result"
    }
   ],
   "source": [
    "train_df.head()"
   ]
  },
  {
   "cell_type": "markdown",
   "metadata": {},
   "source": [
    "From kaggle:\n",
    "\n",
    "**pclass**: A proxy for socio-economic status (SES)  \n",
    "&emsp; 1st = Upper  \n",
    "&emsp; 2nd = Middle  \n",
    "&emsp; 3rd = Lower\n",
    "\n",
    "**age**: Age is fractional if less than 1. If the age is estimated, is it in the form of xx.5\n",
    "\n",
    "**sibsp**: The dataset defines family relations in this way...  \n",
    "&emsp; Sibling = brother, sister, stepbrother, stepsister  \n",
    "&emsp; Spouse = husband, wife (mistresses and fiancés were ignored)\n",
    "\n",
    "**parch**: The dataset defines family relations in this way...  \n",
    "&emsp; Parent = mother, father  \n",
    "&emsp; Child = daughter, son, stepdaughter, stepson  \n",
    "&emsp; Some children travelled only with a nanny, therefore parch=0 for them.\n",
    "\n",
    "**embarked**: Port of Embarkation  \n",
    "&emsp; C = Cherbourg  \n",
    "&emsp; Q = Queenstown  \n",
    "&emsp; S = Southampton"
   ]
  },
  {
   "cell_type": "code",
   "execution_count": 5,
   "metadata": {
    "execution": {
     "iopub.execute_input": "2022-11-29T10:03:29.483137Z",
     "iopub.status.busy": "2022-11-29T10:03:29.482722Z",
     "iopub.status.idle": "2022-11-29T10:03:29.791562Z",
     "shell.execute_reply": "2022-11-29T10:03:29.788588Z",
     "shell.execute_reply.started": "2022-11-29T10:03:29.483100Z"
    }
   },
   "outputs": [
    {
     "name": "stdout",
     "output_type": "stream",
     "text": [
      "<class 'pandas.core.frame.DataFrame'>\n",
      "Int64Index: 891 entries, 1 to 891\n",
      "Data columns (total 11 columns):\n",
      " #   Column    Non-Null Count  Dtype  \n",
      "---  ------    --------------  -----  \n",
      " 0   Survived  891 non-null    int64  \n",
      " 1   Pclass    891 non-null    int64  \n",
      " 2   Name      891 non-null    object \n",
      " 3   Sex       891 non-null    object \n",
      " 4   Age       714 non-null    float64\n",
      " 5   SibSp     891 non-null    int64  \n",
      " 6   Parch     891 non-null    int64  \n",
      " 7   Ticket    891 non-null    object \n",
      " 8   Fare      891 non-null    float64\n",
      " 9   Cabin     204 non-null    object \n",
      " 10  Embarked  889 non-null    object \n",
      "dtypes: float64(2), int64(4), object(5)\n",
      "memory usage: 83.5+ KB\n"
     ]
    }
   ],
   "source": [
    "train_df.info()"
   ]
  },
  {
   "cell_type": "markdown",
   "metadata": {},
   "source": [
    "`Age`, `Cabin` and `Embarked` columns have missing values.\n",
    "\n",
    "`Name`, `Sex`, `Ticket`, `Cabin` and `Embarked` columns contain string values."
   ]
  },
  {
   "cell_type": "code",
   "execution_count": 6,
   "metadata": {
    "execution": {
     "iopub.execute_input": "2022-11-29T10:03:29.795745Z",
     "iopub.status.busy": "2022-11-29T10:03:29.794548Z",
     "iopub.status.idle": "2022-11-29T10:03:30.151777Z",
     "shell.execute_reply": "2022-11-29T10:03:30.148008Z",
     "shell.execute_reply.started": "2022-11-29T10:03:29.795626Z"
    },
    "tags": []
   },
   "outputs": [
    {
     "data": {
      "text/plain": [
       "681"
      ]
     },
     "execution_count": 6,
     "metadata": {},
     "output_type": "execute_result"
    }
   ],
   "source": [
    "train_df.Ticket.unique().size"
   ]
  },
  {
   "cell_type": "code",
   "execution_count": 7,
   "metadata": {
    "execution": {
     "iopub.execute_input": "2022-11-29T10:03:30.156831Z",
     "iopub.status.busy": "2022-11-29T10:03:30.155783Z",
     "iopub.status.idle": "2022-11-29T10:03:30.505103Z",
     "shell.execute_reply": "2022-11-29T10:03:30.504100Z",
     "shell.execute_reply.started": "2022-11-29T10:03:30.156739Z"
    }
   },
   "outputs": [
    {
     "data": {
      "text/html": [
       "<div>\n",
       "<style scoped>\n",
       "    .dataframe tbody tr th:only-of-type {\n",
       "        vertical-align: middle;\n",
       "    }\n",
       "\n",
       "    .dataframe tbody tr th {\n",
       "        vertical-align: top;\n",
       "    }\n",
       "\n",
       "    .dataframe thead th {\n",
       "        text-align: right;\n",
       "    }\n",
       "</style>\n",
       "<table border=\"1\" class=\"dataframe\">\n",
       "  <thead>\n",
       "    <tr style=\"text-align: right;\">\n",
       "      <th></th>\n",
       "      <th>Survived</th>\n",
       "      <th>Pclass</th>\n",
       "      <th>Age</th>\n",
       "      <th>SibSp</th>\n",
       "      <th>Parch</th>\n",
       "      <th>Fare</th>\n",
       "    </tr>\n",
       "  </thead>\n",
       "  <tbody>\n",
       "    <tr>\n",
       "      <th>count</th>\n",
       "      <td>891.000000</td>\n",
       "      <td>891.000000</td>\n",
       "      <td>714.000000</td>\n",
       "      <td>891.000000</td>\n",
       "      <td>891.000000</td>\n",
       "      <td>891.000000</td>\n",
       "    </tr>\n",
       "    <tr>\n",
       "      <th>mean</th>\n",
       "      <td>0.383838</td>\n",
       "      <td>2.308642</td>\n",
       "      <td>29.699118</td>\n",
       "      <td>0.523008</td>\n",
       "      <td>0.381594</td>\n",
       "      <td>32.204208</td>\n",
       "    </tr>\n",
       "    <tr>\n",
       "      <th>std</th>\n",
       "      <td>0.486592</td>\n",
       "      <td>0.836071</td>\n",
       "      <td>14.526497</td>\n",
       "      <td>1.102743</td>\n",
       "      <td>0.806057</td>\n",
       "      <td>49.693429</td>\n",
       "    </tr>\n",
       "    <tr>\n",
       "      <th>min</th>\n",
       "      <td>0.000000</td>\n",
       "      <td>1.000000</td>\n",
       "      <td>0.420000</td>\n",
       "      <td>0.000000</td>\n",
       "      <td>0.000000</td>\n",
       "      <td>0.000000</td>\n",
       "    </tr>\n",
       "    <tr>\n",
       "      <th>25%</th>\n",
       "      <td>0.000000</td>\n",
       "      <td>2.000000</td>\n",
       "      <td>20.125000</td>\n",
       "      <td>0.000000</td>\n",
       "      <td>0.000000</td>\n",
       "      <td>7.910400</td>\n",
       "    </tr>\n",
       "    <tr>\n",
       "      <th>50%</th>\n",
       "      <td>0.000000</td>\n",
       "      <td>3.000000</td>\n",
       "      <td>28.000000</td>\n",
       "      <td>0.000000</td>\n",
       "      <td>0.000000</td>\n",
       "      <td>14.454200</td>\n",
       "    </tr>\n",
       "    <tr>\n",
       "      <th>75%</th>\n",
       "      <td>1.000000</td>\n",
       "      <td>3.000000</td>\n",
       "      <td>38.000000</td>\n",
       "      <td>1.000000</td>\n",
       "      <td>0.000000</td>\n",
       "      <td>31.000000</td>\n",
       "    </tr>\n",
       "    <tr>\n",
       "      <th>max</th>\n",
       "      <td>1.000000</td>\n",
       "      <td>3.000000</td>\n",
       "      <td>80.000000</td>\n",
       "      <td>8.000000</td>\n",
       "      <td>6.000000</td>\n",
       "      <td>512.329200</td>\n",
       "    </tr>\n",
       "  </tbody>\n",
       "</table>\n",
       "</div>"
      ],
      "text/plain": [
       "         Survived      Pclass         Age       SibSp       Parch        Fare\n",
       "count  891.000000  891.000000  714.000000  891.000000  891.000000  891.000000\n",
       "mean     0.383838    2.308642   29.699118    0.523008    0.381594   32.204208\n",
       "std      0.486592    0.836071   14.526497    1.102743    0.806057   49.693429\n",
       "min      0.000000    1.000000    0.420000    0.000000    0.000000    0.000000\n",
       "25%      0.000000    2.000000   20.125000    0.000000    0.000000    7.910400\n",
       "50%      0.000000    3.000000   28.000000    0.000000    0.000000   14.454200\n",
       "75%      1.000000    3.000000   38.000000    1.000000    0.000000   31.000000\n",
       "max      1.000000    3.000000   80.000000    8.000000    6.000000  512.329200"
      ]
     },
     "execution_count": 7,
     "metadata": {},
     "output_type": "execute_result"
    }
   ],
   "source": [
    "train_df.describe()"
   ]
  },
  {
   "cell_type": "code",
   "execution_count": 8,
   "metadata": {
    "execution": {
     "iopub.execute_input": "2022-11-29T10:03:30.506549Z",
     "iopub.status.busy": "2022-11-29T10:03:30.506088Z",
     "iopub.status.idle": "2022-11-29T10:03:31.451820Z",
     "shell.execute_reply": "2022-11-29T10:03:31.451054Z",
     "shell.execute_reply.started": "2022-11-29T10:03:30.506505Z"
    },
    "tags": []
   },
   "outputs": [
    {
     "data": {
      "image/png": "[encoded data removed]",
      "text/plain": [
       "<Figure size 1000x700 with 6 Axes>"
      ]
     },
     "metadata": {},
     "output_type": "display_data"
    }
   ],
   "source": [
    "axs = train_df.hist(figsize=(10, 7))"
   ]
  },
  {
   "cell_type": "code",
   "execution_count": 9,
   "metadata": {
    "execution": {
     "iopub.execute_input": "2022-11-29T10:03:31.453323Z",
     "iopub.status.busy": "2022-11-29T10:03:31.452980Z",
     "iopub.status.idle": "2022-11-29T10:03:31.459572Z",
     "shell.execute_reply": "2022-11-29T10:03:31.458515Z",
     "shell.execute_reply.started": "2022-11-29T10:03:31.453280Z"
    },
    "tags": []
   },
   "outputs": [],
   "source": [
    "def cmap_hist_by(\n",
    "    *,\n",
    "    value: np.ndarray,\n",
    "    patches: mpl.container.BarContainer,\n",
    "    ax: mpl.axes.Axes,\n",
    "    clb_title: str,\n",
    "    cm: str = \"seismic_r\",\n",
    "):\n",
    "    cmap = plt.get_cmap(cm)\n",
    "\n",
    "    for v, p in zip(value, patches):\n",
    "        plt.setp(p, \"facecolor\", cmap(v))\n",
    "\n",
    "    clb = plt.colorbar(mpl.cm.ScalarMappable(cmap=cmap), ax=ax)\n",
    "    clb.set_label(clb_title)"
   ]
  },
  {
   "cell_type": "code",
   "execution_count": 10,
   "metadata": {
    "execution": {
     "iopub.execute_input": "2022-11-29T10:03:31.461689Z",
     "iopub.status.busy": "2022-11-29T10:03:31.461056Z",
     "iopub.status.idle": "2022-11-29T10:03:32.041356Z",
     "shell.execute_reply": "2022-11-29T10:03:32.038637Z",
     "shell.execute_reply.started": "2022-11-29T10:03:31.461649Z"
    },
    "tags": []
   },
   "outputs": [],
   "source": [
    "def get_survived_cuts_mean(\n",
    "    df: pd.DataFrame, column_cutted: str, bins: int or list, retbins: bool = True\n",
    ") -> np.ndarray:\n",
    "    survived_cuts, survived_bins = pd.cut(\n",
    "        df[column_cutted], bins=10, right=False, retbins=retbins\n",
    "    )\n",
    "\n",
    "    survived_cuts_mean = df.groupby(survived_cuts).Survived.mean().to_numpy()\n",
    "\n",
    "    if retbins:\n",
    "        return survived_cuts_mean, survived_bins\n",
    "    return survived_cuts_mean"
   ]
  },
  {
   "cell_type": "code",
   "execution_count": 11,
   "metadata": {
    "execution": {
     "iopub.execute_input": "2022-11-29T10:03:32.045907Z",
     "iopub.status.busy": "2022-11-29T10:03:32.044737Z",
     "iopub.status.idle": "2022-11-29T10:03:33.232234Z",
     "shell.execute_reply": "2022-11-29T10:03:33.230724Z",
     "shell.execute_reply.started": "2022-11-29T10:03:32.045791Z"
    },
    "tags": []
   },
   "outputs": [
    {
     "data": {
      "image/png": "[encoded data removed]",
      "text/plain": [
       "<Figure size 1000x930 with 11 Axes>"
      ]
     },
     "metadata": {},
     "output_type": "display_data"
    }
   ],
   "source": [
    "train_df_numeric = train_df.select_dtypes(\"number\")\n",
    "_columns = train_df_numeric.columns.drop(\"Survived\")\n",
    "\n",
    "fig, axs = plt.subplots(3, 2, figsize=(2 * 5, 3 * 3.1), sharey=True)\n",
    "axs[2, 1].set_axis_off()\n",
    "\n",
    "for ax, col in zip(axs.flatten(), _columns):\n",
    "    survived_cuts_mean, survived_bins = get_survived_cuts_mean(train_df, col, bins=10)\n",
    "    n, bins, patches = ax.hist(train_df_numeric[col], bins=survived_bins)\n",
    "\n",
    "    cmap_hist_by(\n",
    "        value=survived_cuts_mean,\n",
    "        patches=patches,\n",
    "        ax=ax,\n",
    "        clb_title=\"Survived\",\n",
    "    )\n",
    "\n",
    "    ax.set_ylabel(\"Number of people\")\n",
    "    ax.set_xlabel(col)"
   ]
  },
  {
   "cell_type": "code",
   "execution_count": 12,
   "metadata": {
    "execution": {
     "iopub.execute_input": "2022-11-29T10:03:33.236272Z",
     "iopub.status.busy": "2022-11-29T10:03:33.236004Z",
     "iopub.status.idle": "2022-11-29T10:03:33.500518Z",
     "shell.execute_reply": "2022-11-29T10:03:33.499674Z",
     "shell.execute_reply.started": "2022-11-29T10:03:33.236252Z"
    },
    "tags": []
   },
   "outputs": [
    {
     "data": {
      "image/png": "[encoded data removed]",
      "text/plain": [
       "<Figure size 1200x400 with 2 Axes>"
      ]
     },
     "metadata": {},
     "output_type": "display_data"
    }
   ],
   "source": [
    "fig, axs = plt.subplots(1, 2, figsize=(2 * 6, 4), sharey=True)\n",
    "\n",
    "sex_survived_mean = train_df.groupby(\"Sex\", as_index=False).Survived.mean().to_numpy()\n",
    "embarked_survived_mean = (\n",
    "    train_df.groupby(\"Embarked\", as_index=False).Survived.mean().to_numpy()\n",
    ")\n",
    "\n",
    "axs[0].bar(sex_survived_mean[:, 0], sex_survived_mean[:, 1])\n",
    "axs[1].bar(embarked_survived_mean[:, 0], embarked_survived_mean[:, 1])\n",
    "\n",
    "axs[0].set_ylabel(\"Survived\")\n",
    "\n",
    "for ax in axs.flatten():\n",
    "    ax.set_ylim(0, 1)"
   ]
  },
  {
   "cell_type": "markdown",
   "metadata": {},
   "source": [
    "# Pre-process data to feed ML model"
   ]
  },
  {
   "cell_type": "markdown",
   "metadata": {},
   "source": [
    "`Cabin` has so much missing values that probably the best approach is to <font color='red'>remove</font> this column. \n",
    "\n",
    "`Name` holds no critical information, so the best approach is to <font color='red'>remove</font> this column.  \n",
    "\n",
    "`Ticket` has 681 unique values among the 891, probably we won't find any correlation between  \n",
    "survived ones and its tickets, so the best approach is to <font color='red'>remove</font> this column.  \n",
    "\n",
    "`Embarked` has 2 missing values. We will fill these values with the <font color='yellow'>most frequent value</font> for  \n",
    "this column.  \n",
    "\n",
    "`Age` has almost 200 missing values. We'll fill these values with a <font color='yellow'>median of the ages</font>.\n",
    "\n",
    "`Sex` and `Embarked` are columns containing categorical values. We need to convert these  \n",
    "categories to numbers using an enconder.\n",
    "\n",
    "The Ordinal Encoder does not seem a good idea since nor `Sex` nor `Embarked` have a relation  \n",
    "of _order_ or _scale_. We will stick to the <font color=\"yellow\">One Hot Encoder</font>."
   ]
  },
  {
   "cell_type": "code",
   "execution_count": 13,
   "metadata": {
    "execution": {
     "iopub.execute_input": "2022-11-29T10:03:33.501869Z",
     "iopub.status.busy": "2022-11-29T10:03:33.501498Z",
     "iopub.status.idle": "2022-11-29T10:03:33.762647Z",
     "shell.execute_reply": "2022-11-29T10:03:33.760036Z",
     "shell.execute_reply.started": "2022-11-29T10:03:33.501841Z"
    },
    "tags": []
   },
   "outputs": [],
   "source": [
    "COLUMNS_TO_REMOVE = [\"Name\", \"Cabin\", \"Ticket\"]\n",
    "COLUMNS_TO_FILL_MISSING_VALUES_MODE = [\"Embarked\"]\n",
    "COLUMNS_TO_FILL_MISSING_VALUES_MEDIAN = [\"Age\"]\n",
    "\n",
    "\n",
    "def fillna(\n",
    "    df: pd.DataFrame,\n",
    "    subset: str,\n",
    "    method: Union[Literal[\"median\"], Literal[\"mode\"]] = \"median\",\n",
    ") -> pd.DataFrame:\n",
    "    if method == \"median\":\n",
    "        df[subset] = df[subset].fillna(df[subset].median())\n",
    "    elif method == \"mode\":\n",
    "        df[subset] = df[subset].fillna(df[subset].mode().iloc[0])\n",
    "\n",
    "    return df\n",
    "\n",
    "\n",
    "train_data = (\n",
    "    train_df\n",
    "    .drop(columns=COLUMNS_TO_REMOVE)\n",
    "    .pipe(fillna, subset=COLUMNS_TO_FILL_MISSING_VALUES_MEDIAN, method=\"median\")\n",
    "    .pipe(fillna, subset=COLUMNS_TO_FILL_MISSING_VALUES_MODE, method=\"mode\")\n",
    ")\n",
    "\n",
    "train_labels = train_data.Survived.to_numpy()\n",
    "train_data = train_data.drop(columns=[\"Survived\"])"
   ]
  },
  {
   "cell_type": "code",
   "execution_count": 14,
   "metadata": {
    "execution": {
     "iopub.execute_input": "2022-11-29T10:03:33.766184Z",
     "iopub.status.busy": "2022-11-29T10:03:33.765288Z",
     "iopub.status.idle": "2022-11-29T10:03:34.200365Z",
     "shell.execute_reply": "2022-11-29T10:03:34.197783Z",
     "shell.execute_reply.started": "2022-11-29T10:03:33.766072Z"
    },
    "tags": []
   },
   "outputs": [],
   "source": [
    "def transform_columns(df: pd.DataFrame, column: str, transformer) -> np.ndarray:\n",
    "    return transformer.fit_transform(df[column])\n",
    "\n",
    "\n",
    "def concatenate_transformed_column(df: pd.DataFrame, column: np.ndarray) -> np.ndarray:\n",
    "    return np.c_[df.to_numpy(), column]"
   ]
  },
  {
   "cell_type": "code",
   "execution_count": 15,
   "metadata": {
    "execution": {
     "iopub.execute_input": "2022-11-29T10:03:34.204249Z",
     "iopub.status.busy": "2022-11-29T10:03:34.203397Z",
     "iopub.status.idle": "2022-11-29T10:03:34.860631Z",
     "shell.execute_reply": "2022-11-29T10:03:34.860005Z",
     "shell.execute_reply.started": "2022-11-29T10:03:34.204168Z"
    },
    "tags": []
   },
   "outputs": [],
   "source": [
    "from sklearn.preprocessing import OneHotEncoder\n",
    "\n",
    "COLUMNS_TO_ENCODE = [\"Sex\", \"Embarked\"]\n",
    "\n",
    "one_hot_enc = OneHotEncoder(handle_unknown=\"ignore\", sparse=False)\n",
    "\n",
    "cat_one_hot_train = transform_columns(train_data, COLUMNS_TO_ENCODE, one_hot_enc)\n",
    "train_data_trans = concatenate_transformed_column(\n",
    "    train_data.drop(columns=COLUMNS_TO_ENCODE), cat_one_hot_train\n",
    ")"
   ]
  },
  {
   "cell_type": "code",
   "execution_count": 16,
   "metadata": {
    "execution": {
     "iopub.execute_input": "2022-11-29T10:03:34.861736Z",
     "iopub.status.busy": "2022-11-29T10:03:34.861384Z",
     "iopub.status.idle": "2022-11-29T10:03:34.973802Z",
     "shell.execute_reply": "2022-11-29T10:03:34.972958Z",
     "shell.execute_reply.started": "2022-11-29T10:03:34.861694Z"
    },
    "tags": []
   },
   "outputs": [
    {
     "data": {
      "text/html": [
       "<style>#sk-container-id-1 {color: black;background-color: white;}#sk-container-id-1 pre{padding: 0;}#sk-container-id-1 div.sk-toggleable {background-color: white;}#sk-container-id-1 label.sk-toggleable__label {cursor: pointer;display: block;width: 100%;margin-bottom: 0;padding: 0.3em;box-sizing: border-box;text-align: center;}#sk-container-id-1 label.sk-toggleable__label-arrow:before {content: \"▸\";float: left;margin-right: 0.25em;color: #696969;}#sk-container-id-1 label.sk-toggleable__label-arrow:hover:before {color: black;}#sk-container-id-1 div.sk-estimator:hover label.sk-toggleable__label-arrow:before {color: black;}#sk-container-id-1 div.sk-toggleable__content {max-height: 0;max-width: 0;overflow: hidden;text-align: left;background-color: #f0f8ff;}#sk-container-id-1 div.sk-toggleable__content pre {margin: 0.2em;color: black;border-radius: 0.25em;background-color: #f0f8ff;}#sk-container-id-1 input.sk-toggleable__control:checked~div.sk-toggleable__content {max-height: 200px;max-width: 100%;overflow: auto;}#sk-container-id-1 input.sk-toggleable__control:checked~label.sk-toggleable__label-arrow:before {content: \"▾\";}#sk-container-id-1 div.sk-estimator input.sk-toggleable__control:checked~label.sk-toggleable__label {background-color: #d4ebff;}#sk-container-id-1 div.sk-label input.sk-toggleable__control:checked~label.sk-toggleable__label {background-color: #d4ebff;}#sk-container-id-1 input.sk-hidden--visually {border: 0;clip: rect(1px 1px 1px 1px);clip: rect(1px, 1px, 1px, 1px);height: 1px;margin: -1px;overflow: hidden;padding: 0;position: absolute;width: 1px;}#sk-container-id-1 div.sk-estimator {font-family: monospace;background-color: #f0f8ff;border: 1px dotted black;border-radius: 0.25em;box-sizing: border-box;margin-bottom: 0.5em;}#sk-container-id-1 div.sk-estimator:hover {background-color: #d4ebff;}#sk-container-id-1 div.sk-parallel-item::after {content: \"\";width: 100%;border-bottom: 1px solid gray;flex-grow: 1;}#sk-container-id-1 div.sk-label:hover label.sk-toggleable__label {background-color: #d4ebff;}#sk-container-id-1 div.sk-serial::before {content: \"\";position: absolute;border-left: 1px solid gray;box-sizing: border-box;top: 0;bottom: 0;left: 50%;z-index: 0;}#sk-container-id-1 div.sk-serial {display: flex;flex-direction: column;align-items: center;background-color: white;padding-right: 0.2em;padding-left: 0.2em;position: relative;}#sk-container-id-1 div.sk-item {position: relative;z-index: 1;}#sk-container-id-1 div.sk-parallel {display: flex;align-items: stretch;justify-content: center;background-color: white;position: relative;}#sk-container-id-1 div.sk-item::before, #sk-container-id-1 div.sk-parallel-item::before {content: \"\";position: absolute;border-left: 1px solid gray;box-sizing: border-box;top: 0;bottom: 0;left: 50%;z-index: -1;}#sk-container-id-1 div.sk-parallel-item {display: flex;flex-direction: column;z-index: 1;position: relative;background-color: white;}#sk-container-id-1 div.sk-parallel-item:first-child::after {align-self: flex-end;width: 50%;}#sk-container-id-1 div.sk-parallel-item:last-child::after {align-self: flex-start;width: 50%;}#sk-container-id-1 div.sk-parallel-item:only-child::after {width: 0;}#sk-container-id-1 div.sk-dashed-wrapped {border: 1px dashed gray;margin: 0 0.4em 0.5em 0.4em;box-sizing: border-box;padding-bottom: 0.4em;background-color: white;}#sk-container-id-1 div.sk-label label {font-family: monospace;font-weight: bold;display: inline-block;line-height: 1.2em;}#sk-container-id-1 div.sk-label-container {text-align: center;}#sk-container-id-1 div.sk-container {/* jupyter's `normalize.less` sets `[hidden] { display: none; }` but bootstrap.min.css set `[hidden] { display: none !important; }` so we also need the `!important` here to be able to override the default hidden behavior on the sphinx rendered scikit-learn.org. See: https://github.com/scikit-learn/scikit-learn/issues/21755 */display: inline-block !important;position: relative;}#sk-container-id-1 div.sk-text-repr-fallback {display: none;}</style><div id=\"sk-container-id-1\" class=\"sk-top-container\"><div class=\"sk-text-repr-fallback\"><pre>KNeighborsClassifier()</pre><b>In a Jupyter environment, please rerun this cell to show the HTML representation or trust the notebook. <br />On GitHub, the HTML representation is unable to render, please try loading this page with nbviewer.org.</b></div><div class=\"sk-container\" hidden><div class=\"sk-item\"><div class=\"sk-estimator sk-toggleable\"><input class=\"sk-toggleable__control sk-hidden--visually\" id=\"sk-estimator-id-1\" type=\"checkbox\" checked><label for=\"sk-estimator-id-1\" class=\"sk-toggleable__label sk-toggleable__label-arrow\">KNeighborsClassifier</label><div class=\"sk-toggleable__content\"><pre>KNeighborsClassifier()</pre></div></div></div></div></div>"
      ],
      "text/plain": [
       "KNeighborsClassifier()"
      ]
     },
     "execution_count": 16,
     "metadata": {},
     "output_type": "execute_result"
    }
   ],
   "source": [
    "from sklearn.neighbors import KNeighborsClassifier\n",
    "\n",
    "knn = KNeighborsClassifier()\n",
    "knn.fit(train_data_trans, train_labels)"
   ]
  },
  {
   "cell_type": "code",
   "execution_count": 17,
   "metadata": {
    "execution": {
     "iopub.execute_input": "2022-11-29T10:03:34.975284Z",
     "iopub.status.busy": "2022-11-29T10:03:34.974884Z",
     "iopub.status.idle": "2022-11-29T10:03:35.171403Z",
     "shell.execute_reply": "2022-11-29T10:03:35.169040Z",
     "shell.execute_reply.started": "2022-11-29T10:03:34.975254Z"
    },
    "tags": []
   },
   "outputs": [
    {
     "name": "stdout",
     "output_type": "stream",
     "text": [
      "<class 'pandas.core.frame.DataFrame'>\n",
      "Int64Index: 418 entries, 892 to 1309\n",
      "Data columns (total 10 columns):\n",
      " #   Column    Non-Null Count  Dtype  \n",
      "---  ------    --------------  -----  \n",
      " 0   Pclass    418 non-null    int64  \n",
      " 1   Name      418 non-null    object \n",
      " 2   Sex       418 non-null    object \n",
      " 3   Age       332 non-null    float64\n",
      " 4   SibSp     418 non-null    int64  \n",
      " 5   Parch     418 non-null    int64  \n",
      " 6   Ticket    418 non-null    object \n",
      " 7   Fare      417 non-null    float64\n",
      " 8   Cabin     91 non-null     object \n",
      " 9   Embarked  418 non-null    object \n",
      "dtypes: float64(2), int64(3), object(5)\n",
      "memory usage: 35.9+ KB\n"
     ]
    }
   ],
   "source": [
    "test_df.info()"
   ]
  },
  {
   "cell_type": "code",
   "execution_count": 18,
   "metadata": {
    "execution": {
     "iopub.execute_input": "2022-11-29T10:03:35.174876Z",
     "iopub.status.busy": "2022-11-29T10:03:35.173919Z",
     "iopub.status.idle": "2022-11-29T10:03:35.493332Z",
     "shell.execute_reply": "2022-11-29T10:03:35.492246Z",
     "shell.execute_reply.started": "2022-11-29T10:03:35.174780Z"
    },
    "tags": []
   },
   "outputs": [
    {
     "data": {
      "text/plain": [
       "array([[ 3. , 34.5,  0. , ...,  0. ,  1. ,  0. ],\n",
       "       [ 3. , 47. ,  1. , ...,  0. ,  0. ,  1. ],\n",
       "       [ 2. , 62. ,  0. , ...,  0. ,  1. ,  0. ],\n",
       "       ...,\n",
       "       [ 3. , 38.5,  0. , ...,  0. ,  0. ,  1. ],\n",
       "       [ 3. , 27. ,  0. , ...,  0. ,  0. ,  1. ],\n",
       "       [ 3. , 27. ,  1. , ...,  1. ,  0. ,  0. ]])"
      ]
     },
     "execution_count": 18,
     "metadata": {},
     "output_type": "execute_result"
    }
   ],
   "source": [
    "_COLUMNS_TO_FILL_MISSING_VALUES_MEDIAN = [\"Age\", \"Fare\"]\n",
    "\n",
    "test_data = (\n",
    "    test_df\n",
    "    .drop(columns=COLUMNS_TO_REMOVE)\n",
    "    .pipe(fillna, subset=_COLUMNS_TO_FILL_MISSING_VALUES_MEDIAN, method=\"median\")\n",
    "    .pipe(fillna, subset=COLUMNS_TO_FILL_MISSING_VALUES_MODE, method=\"mode\")\n",
    ")\n",
    "\n",
    "cat_one_hot_test = transform_columns(test_data, COLUMNS_TO_ENCODE, one_hot_enc)\n",
    "test_data_trans = concatenate_transformed_column(\n",
    "    test_data.drop(columns=COLUMNS_TO_ENCODE), cat_one_hot_test\n",
    ")\n",
    "\n",
    "test_data_trans"
   ]
  },
  {
   "cell_type": "code",
   "execution_count": 19,
   "metadata": {
    "execution": {
     "iopub.execute_input": "2022-11-29T10:03:35.495303Z",
     "iopub.status.busy": "2022-11-29T10:03:35.494815Z",
     "iopub.status.idle": "2022-11-29T10:03:35.777126Z",
     "shell.execute_reply": "2022-11-29T10:03:35.776234Z",
     "shell.execute_reply.started": "2022-11-29T10:03:35.495256Z"
    },
    "tags": []
   },
   "outputs": [
    {
     "data": {
      "text/plain": [
       "array([0, 0, 0, 1, 0, 0, 0, 1, 0, 1, 1, 0, 1, 0, 1, 1, 0, 0, 1, 0, 0, 1,\n",
       "       1, 1, 1, 0, 1, 0, 0, 0, 1, 1, 0, 1, 1, 0, 0, 1, 0, 1, 0, 0, 0, 0,\n",
       "       1, 0, 0, 0, 1, 1, 1, 0, 1, 1, 0, 0, 0, 0, 0, 1, 0, 1, 0, 1, 1, 0,\n",
       "       1, 0, 0, 1, 0, 0, 0, 0, 1, 0, 0, 0, 0, 0, 1, 1, 1, 1, 0, 0, 1, 1,\n",
       "       1, 1, 0, 1, 1, 0, 0, 0, 1, 0, 0, 0, 1, 0, 0, 0, 1, 0, 0, 0, 1, 0,\n",
       "       0, 1, 1, 0, 1, 0, 0, 1, 1, 1, 0, 0, 1, 0, 0, 0, 0, 1, 1, 0, 0, 0,\n",
       "       0, 0, 0, 0, 0, 0, 1, 0, 0, 1, 1, 0, 0, 0, 1, 0, 0, 1, 1, 0, 0, 1,\n",
       "       0, 0, 0, 1, 0, 1, 1, 1, 0, 0, 1, 0, 1, 0, 0, 0, 1, 0, 0, 0, 0, 0,\n",
       "       0, 1, 0, 1, 0, 1, 1, 0, 1, 0, 1, 0, 0, 0, 1, 0, 1, 0, 0, 0, 1, 0,\n",
       "       0, 0, 1, 1, 1, 1, 0, 0, 0, 0, 1, 0, 0, 0, 0, 0, 0, 0, 1, 1, 1, 0,\n",
       "       0, 0, 0, 0, 0, 1, 0, 1, 0, 1, 1, 1, 0, 0, 1, 0, 1, 0, 0, 0, 0, 1,\n",
       "       1, 1, 0, 1, 1, 0, 1, 0, 1, 0, 1, 0, 0, 1, 0, 0, 0, 0, 0, 0, 0, 1,\n",
       "       0, 1, 0, 1, 0, 0, 1, 0, 1, 1, 0, 1, 0, 0, 0, 0, 1, 1, 1, 1, 1, 0,\n",
       "       0, 1, 0, 0, 0, 0, 0, 1, 0, 0, 1, 0, 0, 0, 0, 0, 0, 0, 1, 0, 1, 1,\n",
       "       1, 0, 0, 0, 1, 0, 1, 1, 1, 0, 1, 1, 0, 0, 0, 1, 1, 0, 0, 1, 1, 0,\n",
       "       0, 0, 0, 0, 1, 0, 1, 0, 1, 0, 0, 0, 0, 1, 0, 1, 0, 0, 0, 0, 1, 0,\n",
       "       0, 1, 1, 1, 1, 1, 0, 1, 0, 1, 0, 1, 1, 1, 0, 0, 0, 0, 0, 1, 0, 1,\n",
       "       1, 1, 0, 0, 0, 0, 0, 0, 0, 0, 0, 1, 0, 0, 0, 0, 1, 0, 0, 0, 0, 1,\n",
       "       0, 1, 0, 0, 1, 1, 1, 0, 0, 0, 0, 1, 1, 1, 1, 1, 0, 0, 1, 0, 0, 0])"
      ]
     },
     "execution_count": 19,
     "metadata": {},
     "output_type": "execute_result"
    }
   ],
   "source": [
    "predictions = knn.predict(test_data_trans)\n",
    "predictions"
   ]
  },
  {
   "cell_type": "code",
   "execution_count": 20,
   "metadata": {
    "execution": {
     "iopub.execute_input": "2022-11-29T10:03:35.778318Z",
     "iopub.status.busy": "2022-11-29T10:03:35.777981Z",
     "iopub.status.idle": "2022-11-29T10:03:35.909667Z",
     "shell.execute_reply": "2022-11-29T10:03:35.906925Z",
     "shell.execute_reply.started": "2022-11-29T10:03:35.778292Z"
    },
    "tags": []
   },
   "outputs": [
    {
     "data": {
      "text/html": [
       "<div>\n",
       "<style scoped>\n",
       "    .dataframe tbody tr th:only-of-type {\n",
       "        vertical-align: middle;\n",
       "    }\n",
       "\n",
       "    .dataframe tbody tr th {\n",
       "        vertical-align: top;\n",
       "    }\n",
       "\n",
       "    .dataframe thead th {\n",
       "        text-align: right;\n",
       "    }\n",
       "</style>\n",
       "<table border=\"1\" class=\"dataframe\">\n",
       "  <thead>\n",
       "    <tr style=\"text-align: right;\">\n",
       "      <th></th>\n",
       "      <th>PassengerId</th>\n",
       "      <th>Survived</th>\n",
       "    </tr>\n",
       "  </thead>\n",
       "  <tbody>\n",
       "    <tr>\n",
       "      <th>0</th>\n",
       "      <td>892</td>\n",
       "      <td>0</td>\n",
       "    </tr>\n",
       "    <tr>\n",
       "      <th>1</th>\n",
       "      <td>893</td>\n",
       "      <td>0</td>\n",
       "    </tr>\n",
       "    <tr>\n",
       "      <th>2</th>\n",
       "      <td>894</td>\n",
       "      <td>0</td>\n",
       "    </tr>\n",
       "    <tr>\n",
       "      <th>3</th>\n",
       "      <td>895</td>\n",
       "      <td>1</td>\n",
       "    </tr>\n",
       "    <tr>\n",
       "      <th>4</th>\n",
       "      <td>896</td>\n",
       "      <td>0</td>\n",
       "    </tr>\n",
       "    <tr>\n",
       "      <th>...</th>\n",
       "      <td>...</td>\n",
       "      <td>...</td>\n",
       "    </tr>\n",
       "    <tr>\n",
       "      <th>413</th>\n",
       "      <td>1305</td>\n",
       "      <td>0</td>\n",
       "    </tr>\n",
       "    <tr>\n",
       "      <th>414</th>\n",
       "      <td>1306</td>\n",
       "      <td>1</td>\n",
       "    </tr>\n",
       "    <tr>\n",
       "      <th>415</th>\n",
       "      <td>1307</td>\n",
       "      <td>0</td>\n",
       "    </tr>\n",
       "    <tr>\n",
       "      <th>416</th>\n",
       "      <td>1308</td>\n",
       "      <td>0</td>\n",
       "    </tr>\n",
       "    <tr>\n",
       "      <th>417</th>\n",
       "      <td>1309</td>\n",
       "      <td>0</td>\n",
       "    </tr>\n",
       "  </tbody>\n",
       "</table>\n",
       "<p>418 rows × 2 columns</p>\n",
       "</div>"
      ],
      "text/plain": [
       "     PassengerId  Survived\n",
       "0            892         0\n",
       "1            893         0\n",
       "2            894         0\n",
       "3            895         1\n",
       "4            896         0\n",
       "..           ...       ...\n",
       "413         1305         0\n",
       "414         1306         1\n",
       "415         1307         0\n",
       "416         1308         0\n",
       "417         1309         0\n",
       "\n",
       "[418 rows x 2 columns]"
      ]
     },
     "execution_count": 20,
     "metadata": {},
     "output_type": "execute_result"
    }
   ],
   "source": [
    "predictions_df = pd.DataFrame(\n",
    "    {\n",
    "        \"PassengerId\": test_data.index.values,\n",
    "        \"Survived\": predictions\n",
    "    }\n",
    ")\n",
    "\n",
    "predictions_df"
   ]
  },
  {
   "cell_type": "code",
   "execution_count": 21,
   "metadata": {
    "execution": {
     "iopub.execute_input": "2022-11-29T10:03:35.914239Z",
     "iopub.status.busy": "2022-11-29T10:03:35.913175Z",
     "iopub.status.idle": "2022-11-29T10:03:36.235818Z",
     "shell.execute_reply": "2022-11-29T10:03:36.232931Z",
     "shell.execute_reply.started": "2022-11-29T10:03:35.914114Z"
    },
    "tags": []
   },
   "outputs": [],
   "source": [
    "predictions_df.to_csv(\n",
    "    \"../../datasets/first_attemptive_results.csv\",\n",
    "    columns=[\"PassengerId\", \"Survived\"],\n",
    "    index=False,\n",
    ")"
   ]
  }
 ],
 "metadata": {
  "kernelspec": {
   "display_name": "Python 3 Base",
   "language": "python",
   "name": "python3"
  },
  "language_info": {
   "codemirror_mode": {
    "name": "ipython",
    "version": 3
   },
   "file_extension": ".py",
   "mimetype": "text/x-python",
   "name": "python",
   "nbconvert_exporter": "python",
   "pygments_lexer": "ipython3",
   "version": "3.8.10"
  },
  "vscode": {
   "interpreter": {
    "hash": "9ee7d37a95cd0bf7d59da217c49804551e8ef3ff02e88e3927176aaf77660115"
   }
  }
 },
 "nbformat": 4,
 "nbformat_minor": 4
}
