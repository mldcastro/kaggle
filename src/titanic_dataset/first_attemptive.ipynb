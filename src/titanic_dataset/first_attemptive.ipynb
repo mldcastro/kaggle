{
 "cells": [
  {
   "cell_type": "code",
   "execution_count": null,
   "metadata": {
    "tags": []
   },
   "outputs": [],
   "source": [
    "import numpy as np\n",
    "import pandas as pd\n",
    "import matplotlib.pyplot as plt\n",
    "import matplotlib as mpl\n",
    "\n",
    "\n",
    "from typing import Literal, Any, Union, Callable\n",
    "\n",
    "\n",
    "mpl.rcParams[\"axes.grid\"] = True\n",
    "mpl.rcParams[\"axes.axisbelow\"] = True\n",
    "mpl.rcParams[\"grid.color\"] = \"gainsboro\""
   ]
  },
  {
   "cell_type": "markdown",
   "metadata": {},
   "source": [
    "# Load datasets"
   ]
  },
  {
   "cell_type": "code",
   "execution_count": null,
   "metadata": {
    "tags": []
   },
   "outputs": [],
   "source": [
    "PATH_TRAIN_DATASET = \"../../datasets/train.csv\"\n",
    "PATH_TEST_DATASET = \"../../datasets/test.csv\"\n",
    "\n",
    "train_df = pd.read_csv(PATH_TRAIN_DATASET, index_col=0)\n",
    "test_df = pd.read_csv(PATH_TEST_DATASET, index_col=0)"
   ]
  },
  {
   "cell_type": "markdown",
   "metadata": {},
   "source": [
    "# Explore train data"
   ]
  },
  {
   "cell_type": "code",
   "execution_count": null,
   "metadata": {},
   "outputs": [],
   "source": [
    "train_df.head()"
   ]
  },
  {
   "cell_type": "markdown",
   "metadata": {},
   "source": [
    "From kaggle:\n",
    "\n",
    "**pclass**: A proxy for socio-economic status (SES)  \n",
    "&emsp; 1st = Upper  \n",
    "&emsp; 2nd = Middle  \n",
    "&emsp; 3rd = Lower\n",
    "\n",
    "**age**: Age is fractional if less than 1. If the age is estimated, is it in the form of xx.5\n",
    "\n",
    "**sibsp**: The dataset defines family relations in this way...  \n",
    "&emsp; Sibling = brother, sister, stepbrother, stepsister  \n",
    "&emsp; Spouse = husband, wife (mistresses and fiancés were ignored)\n",
    "\n",
    "**parch**: The dataset defines family relations in this way...  \n",
    "&emsp; Parent = mother, father  \n",
    "&emsp; Child = daughter, son, stepdaughter, stepson  \n",
    "&emsp; Some children travelled only with a nanny, therefore parch=0 for them.\n",
    "\n",
    "**embarked**: Port of Embarkation  \n",
    "&emsp; C = Cherbourg  \n",
    "&emsp; Q = Queenstown  \n",
    "&emsp; S = Southampton"
   ]
  },
  {
   "cell_type": "code",
   "execution_count": null,
   "metadata": {},
   "outputs": [],
   "source": [
    "train_df.info()"
   ]
  },
  {
   "cell_type": "markdown",
   "metadata": {},
   "source": [
    "`Age`, `Cabin` and `Embarked` columns have missing values.\n",
    "\n",
    "`Name`, `Sex`, `Ticket`, `Cabin` and `Embarked` columns contain string values."
   ]
  },
  {
   "cell_type": "code",
   "execution_count": null,
   "metadata": {
    "tags": []
   },
   "outputs": [],
   "source": [
    "train_df.Ticket.unique().size"
   ]
  },
  {
   "cell_type": "code",
   "execution_count": null,
   "metadata": {},
   "outputs": [],
   "source": [
    "train_df.describe()"
   ]
  },
  {
   "cell_type": "code",
   "execution_count": null,
   "metadata": {
    "tags": []
   },
   "outputs": [],
   "source": [
    "axs = train_df.hist(figsize=(10, 7))"
   ]
  },
  {
   "cell_type": "code",
   "execution_count": null,
   "metadata": {
    "tags": []
   },
   "outputs": [],
   "source": [
    "def cmap_hist_by(\n",
    "    *,\n",
    "    value: np.ndarray,\n",
    "    patches: mpl.container.BarContainer,\n",
    "    ax: mpl.axes.Axes,\n",
    "    clb_title: str,\n",
    "    cm: str = \"seismic_r\",\n",
    "):\n",
    "    cmap = plt.get_cmap(cm)\n",
    "\n",
    "    for v, p in zip(value, patches):\n",
    "        plt.setp(p, \"facecolor\", cmap(v))\n",
    "\n",
    "    clb = plt.colorbar(mpl.cm.ScalarMappable(cmap=cmap), ax=ax)\n",
    "    clb.set_label(clb_title)"
   ]
  },
  {
   "cell_type": "code",
   "execution_count": null,
   "metadata": {
    "tags": []
   },
   "outputs": [],
   "source": [
    "def get_survived_cuts_mean(\n",
    "    df: pd.DataFrame, column_cutted: str, bins: int or list, retbins: bool = True\n",
    ") -> np.ndarray:\n",
    "    survived_cuts, survived_bins = pd.cut(\n",
    "        df[column_cutted], bins=10, right=False, retbins=retbins\n",
    "    )\n",
    "\n",
    "    survived_cuts_mean = df.groupby(survived_cuts).Survived.mean().to_numpy()\n",
    "\n",
    "    if retbins:\n",
    "        return survived_cuts_mean, survived_bins\n",
    "    return survived_cuts_mean"
   ]
  },
  {
   "cell_type": "code",
   "execution_count": null,
   "metadata": {
    "tags": []
   },
   "outputs": [],
   "source": [
    "train_df_numeric = train_df.select_dtypes(\"number\")\n",
    "_columns = train_df_numeric.columns.drop(\"Survived\")\n",
    "\n",
    "fig, axs = plt.subplots(3, 2, figsize=(2 * 5, 3 * 3.1), sharey=True)\n",
    "axs[2, 1].set_axis_off()\n",
    "\n",
    "for ax, col in zip(axs.flatten(), _columns):\n",
    "    survived_cuts_mean, survived_bins = get_survived_cuts_mean(train_df, col, bins=10)\n",
    "    n, bins, patches = ax.hist(train_df_numeric[col], bins=survived_bins)\n",
    "\n",
    "    cmap_hist_by(\n",
    "        value=survived_cuts_mean,\n",
    "        patches=patches,\n",
    "        ax=ax,\n",
    "        clb_title=\"Survived\",\n",
    "    )\n",
    "\n",
    "    ax.set_ylabel(\"Number of people\")\n",
    "    ax.set_xlabel(col)"
   ]
  },
  {
   "cell_type": "code",
   "execution_count": null,
   "metadata": {
    "tags": []
   },
   "outputs": [],
   "source": [
    "fig, axs = plt.subplots(1, 2, figsize=(2 * 6, 4), sharey=True)\n",
    "\n",
    "sex_survived_mean = train_df.groupby(\"Sex\", as_index=False).Survived.mean().to_numpy()\n",
    "embarked_survived_mean = (\n",
    "    train_df.groupby(\"Embarked\", as_index=False).Survived.mean().to_numpy()\n",
    ")\n",
    "\n",
    "axs[0].bar(sex_survived_mean[:, 0], sex_survived_mean[:, 1])\n",
    "axs[1].bar(embarked_survived_mean[:, 0], embarked_survived_mean[:, 1])\n",
    "\n",
    "axs[0].set_ylabel(\"Survived\")\n",
    "\n",
    "for ax in axs.flatten():\n",
    "    ax.set_ylim(0, 1)"
   ]
  },
  {
   "cell_type": "markdown",
   "metadata": {},
   "source": [
    "# Pre-process data to feed ML model"
   ]
  },
  {
   "cell_type": "markdown",
   "metadata": {},
   "source": [
    "`Cabin` has so much missing values that probably the best approach is to <font color='red'>remove</font> this column. \n",
    "\n",
    "`Name` holds no critical information, so the best approach is to <font color='red'>remove</font> this column.  \n",
    "\n",
    "`Ticket` has 681 unique values among the 891, probably we won't find any correlation between  \n",
    "survived ones and its tickets, so the best approach is to <font color='red'>remove</font> this column.  \n",
    "\n",
    "`Embarked` has 2 missing values. We will fill these values with the <font color='yellow'>most frequent value</font> for  \n",
    "this column.  \n",
    "\n",
    "`Age` has almost 200 missing values. We'll fill these values with a <font color='yellow'>median of the ages</font>.\n",
    "\n",
    "`Sex` and `Embarked` are columns containing categorical values. We need to convert these  \n",
    "categories to numbers using an enconder.\n",
    "\n",
    "The Ordinal Encoder does not seem a good idea since nor `Sex` nor `Embarked` have a relation  \n",
    "of _order_ or _scale_. We will stick to the <font color=\"yellow\">One Hot Encoder</font>."
   ]
  },
  {
   "cell_type": "code",
   "execution_count": null,
   "metadata": {
    "tags": []
   },
   "outputs": [],
   "source": [
    "COLUMNS_TO_REMOVE = [\"Name\", \"Cabin\", \"Ticket\"]\n",
    "COLUMNS_TO_FILL_MISSING_VALUES_MODE = [\"Embarked\"]\n",
    "COLUMNS_TO_FILL_MISSING_VALUES_MEDIAN = [\"Age\"]\n",
    "\n",
    "\n",
    "def fillna(\n",
    "    df: pd.DataFrame,\n",
    "    subset: str,\n",
    "    method: Union[Literal[\"median\"], Literal[\"mode\"]] = \"median\",\n",
    ") -> pd.DataFrame:\n",
    "    if method == \"median\":\n",
    "        df[subset] = df[subset].fillna(df[subset].median())\n",
    "    elif method == \"mode\":\n",
    "        df[subset] = df[subset].fillna(df[subset].mode().iloc[0])\n",
    "\n",
    "    return df\n",
    "\n",
    "\n",
    "train_data = (\n",
    "    train_df\n",
    "    .drop(columns=COLUMNS_TO_REMOVE)\n",
    "    .pipe(fillna, subset=COLUMNS_TO_FILL_MISSING_VALUES_MEDIAN, method=\"median\")\n",
    "    .pipe(fillna, subset=COLUMNS_TO_FILL_MISSING_VALUES_MODE, method=\"mode\")\n",
    ")\n",
    "\n",
    "train_labels = train_data.Survived.to_numpy()\n",
    "train_data = train_data.drop(columns=[\"Survived\"])"
   ]
  },
  {
   "cell_type": "code",
   "execution_count": null,
   "metadata": {
    "tags": []
   },
   "outputs": [],
   "source": [
    "def transform_columns(df: pd.DataFrame, column: str, transformer) -> np.ndarray:\n",
    "    return transformer.fit_transform(df[column])\n",
    "\n",
    "\n",
    "def concatenate_transformed_column(df: pd.DataFrame, column: np.ndarray) -> np.ndarray:\n",
    "    return np.c_[df.to_numpy(), column]"
   ]
  },
  {
   "cell_type": "code",
   "execution_count": null,
   "metadata": {
    "tags": []
   },
   "outputs": [],
   "source": [
    "from sklearn.preprocessing import OneHotEncoder\n",
    "\n",
    "COLUMNS_TO_ENCODE = [\"Sex\", \"Embarked\"]\n",
    "\n",
    "one_hot_enc = OneHotEncoder(handle_unknown=\"ignore\", sparse=False)\n",
    "\n",
    "cat_one_hot_train = transform_columns(train_data, _COLUMNS_TO_ENCODE, one_hot_enc)\n",
    "train_data_trans = concatenate_transformed_column(\n",
    "    train_data.drop(columns=COLUMNS_TO_ENCODE), cat_one_hot_train\n",
    ")"
   ]
  },
  {
   "cell_type": "code",
   "execution_count": null,
   "metadata": {
    "tags": []
   },
   "outputs": [],
   "source": [
    "from sklearn.neighbors import KNeighborsClassifier\n",
    "\n",
    "knn = KNeighborsClassifier()\n",
    "knn.fit(train_data_trans, train_labels)"
   ]
  },
  {
   "cell_type": "code",
   "execution_count": null,
   "metadata": {
    "tags": []
   },
   "outputs": [],
   "source": [
    "test_df.info()"
   ]
  },
  {
   "cell_type": "code",
   "execution_count": null,
   "metadata": {
    "tags": []
   },
   "outputs": [],
   "source": [
    "_COLUMNS_TO_FILL_MISSING_VALUES_MEDIAN = [\"Age\", \"Fare\"]\n",
    "\n",
    "test_data = (\n",
    "    test_df\n",
    "    .drop(columns=COLUMNS_TO_REMOVE)\n",
    "    .pipe(fillna, subset=_COLUMNS_TO_FILL_MISSING_VALUES_MEDIAN, method=\"median\")\n",
    "    .pipe(fillna, subset=COLUMNS_TO_FILL_MISSING_VALUES_MODE, method=\"mode\")\n",
    ")\n",
    "\n",
    "cat_one_hot_test = transform_columns(test_data, _COLUMNS_TO_ENCODE, one_hot_enc)\n",
    "test_data_trans = concatenate_transformed_column(\n",
    "    test_data.drop(columns=COLUMNS_TO_ENCODE), cat_one_hot_test\n",
    ")\n",
    "\n",
    "test_data_trans"
   ]
  },
  {
   "cell_type": "code",
   "execution_count": null,
   "metadata": {
    "tags": []
   },
   "outputs": [],
   "source": [
    "predictions = knn.predict(test_data_trans)\n",
    "predictions"
   ]
  },
  {
   "cell_type": "code",
   "execution_count": null,
   "metadata": {
    "tags": []
   },
   "outputs": [],
   "source": [
    "predictions_df = pd.DataFrame(\n",
    "    {\n",
    "        \"PassengerId\": test_data.index.values,\n",
    "        \"Survived\": predictions\n",
    "    }\n",
    ")\n",
    "\n",
    "predictions_df"
   ]
  },
  {
   "cell_type": "code",
   "execution_count": null,
   "metadata": {
    "tags": []
   },
   "outputs": [],
   "source": [
    "predictions_df.to_csv(\"../../datasets/results.csv\", columns=[\"PassengerId\", \"Survived\"], index=False)"
   ]
  }
 ],
 "metadata": {
  "kernelspec": {
   "display_name": "Python 3 Base",
   "language": "python",
   "name": "python3"
  },
  "language_info": {
   "codemirror_mode": {
    "name": "ipython",
    "version": 3
   },
   "file_extension": ".py",
   "mimetype": "text/x-python",
   "name": "python",
   "nbconvert_exporter": "python",
   "pygments_lexer": "ipython3",
   "version": "3.8.10"
  },
  "vscode": {
   "interpreter": {
    "hash": "9ee7d37a95cd0bf7d59da217c49804551e8ef3ff02e88e3927176aaf77660115"
   }
  }
 },
 "nbformat": 4,
 "nbformat_minor": 4
}
