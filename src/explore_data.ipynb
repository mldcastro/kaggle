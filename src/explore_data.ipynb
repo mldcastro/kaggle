{
 "cells": [
  {
   "cell_type": "code",
   "execution_count": 1,
   "metadata": {
    "execution": {
     "iopub.execute_input": "2022-11-14T14:03:53.870556Z",
     "iopub.status.busy": "2022-11-14T14:03:53.870213Z",
     "iopub.status.idle": "2022-11-14T14:03:59.473822Z",
     "shell.execute_reply": "2022-11-14T14:03:59.473048Z",
     "shell.execute_reply.started": "2022-11-14T14:03:53.870486Z"
    },
    "tags": []
   },
   "outputs": [],
   "source": [
    "import numpy as np\n",
    "import pandas as pd\n",
    "import matplotlib.pyplot as plt\n",
    "import matplotlib as mpl"
   ]
  },
  {
   "cell_type": "code",
   "execution_count": 2,
   "metadata": {
    "execution": {
     "iopub.execute_input": "2022-11-14T14:03:59.474959Z",
     "iopub.status.busy": "2022-11-14T14:03:59.474642Z",
     "iopub.status.idle": "2022-11-14T14:03:59.675568Z",
     "shell.execute_reply": "2022-11-14T14:03:59.674549Z",
     "shell.execute_reply.started": "2022-11-14T14:03:59.474933Z"
    }
   },
   "outputs": [],
   "source": [
    "PATH_TRAIN_DATASET = \"../datasets/train.csv\"\n",
    "PATH_TEST_DATASET = \"../datasets/test.csv\"\n",
    "\n",
    "train_df = pd.read_csv(PATH_TRAIN_DATASET, index_col=0)\n",
    "test_df = pd.read_csv(PATH_TEST_DATASET, index_col=0)"
   ]
  },
  {
   "cell_type": "code",
   "execution_count": 3,
   "metadata": {
    "execution": {
     "iopub.execute_input": "2022-11-14T14:03:59.678379Z",
     "iopub.status.busy": "2022-11-14T14:03:59.678025Z",
     "iopub.status.idle": "2022-11-14T14:04:00.213692Z",
     "shell.execute_reply": "2022-11-14T14:04:00.210431Z",
     "shell.execute_reply.started": "2022-11-14T14:03:59.678346Z"
    }
   },
   "outputs": [
    {
     "data": {
      "text/html": [
       "<div>\n",
       "<style scoped>\n",
       "    .dataframe tbody tr th:only-of-type {\n",
       "        vertical-align: middle;\n",
       "    }\n",
       "\n",
       "    .dataframe tbody tr th {\n",
       "        vertical-align: top;\n",
       "    }\n",
       "\n",
       "    .dataframe thead th {\n",
       "        text-align: right;\n",
       "    }\n",
       "</style>\n",
       "<table border=\"1\" class=\"dataframe\">\n",
       "  <thead>\n",
       "    <tr style=\"text-align: right;\">\n",
       "      <th></th>\n",
       "      <th>Survived</th>\n",
       "      <th>Pclass</th>\n",
       "      <th>Name</th>\n",
       "      <th>Sex</th>\n",
       "      <th>Age</th>\n",
       "      <th>SibSp</th>\n",
       "      <th>Parch</th>\n",
       "      <th>Ticket</th>\n",
       "      <th>Fare</th>\n",
       "      <th>Cabin</th>\n",
       "      <th>Embarked</th>\n",
       "    </tr>\n",
       "    <tr>\n",
       "      <th>PassengerId</th>\n",
       "      <th></th>\n",
       "      <th></th>\n",
       "      <th></th>\n",
       "      <th></th>\n",
       "      <th></th>\n",
       "      <th></th>\n",
       "      <th></th>\n",
       "      <th></th>\n",
       "      <th></th>\n",
       "      <th></th>\n",
       "      <th></th>\n",
       "    </tr>\n",
       "  </thead>\n",
       "  <tbody>\n",
       "    <tr>\n",
       "      <th>1</th>\n",
       "      <td>0</td>\n",
       "      <td>3</td>\n",
       "      <td>Braund, Mr. Owen Harris</td>\n",
       "      <td>male</td>\n",
       "      <td>22.0</td>\n",
       "      <td>1</td>\n",
       "      <td>0</td>\n",
       "      <td>A/5 21171</td>\n",
       "      <td>7.2500</td>\n",
       "      <td>NaN</td>\n",
       "      <td>S</td>\n",
       "    </tr>\n",
       "    <tr>\n",
       "      <th>2</th>\n",
       "      <td>1</td>\n",
       "      <td>1</td>\n",
       "      <td>Cumings, Mrs. John Bradley (Florence Briggs Th...</td>\n",
       "      <td>female</td>\n",
       "      <td>38.0</td>\n",
       "      <td>1</td>\n",
       "      <td>0</td>\n",
       "      <td>PC 17599</td>\n",
       "      <td>71.2833</td>\n",
       "      <td>C85</td>\n",
       "      <td>C</td>\n",
       "    </tr>\n",
       "    <tr>\n",
       "      <th>3</th>\n",
       "      <td>1</td>\n",
       "      <td>3</td>\n",
       "      <td>Heikkinen, Miss. Laina</td>\n",
       "      <td>female</td>\n",
       "      <td>26.0</td>\n",
       "      <td>0</td>\n",
       "      <td>0</td>\n",
       "      <td>STON/O2. 3101282</td>\n",
       "      <td>7.9250</td>\n",
       "      <td>NaN</td>\n",
       "      <td>S</td>\n",
       "    </tr>\n",
       "    <tr>\n",
       "      <th>4</th>\n",
       "      <td>1</td>\n",
       "      <td>1</td>\n",
       "      <td>Futrelle, Mrs. Jacques Heath (Lily May Peel)</td>\n",
       "      <td>female</td>\n",
       "      <td>35.0</td>\n",
       "      <td>1</td>\n",
       "      <td>0</td>\n",
       "      <td>113803</td>\n",
       "      <td>53.1000</td>\n",
       "      <td>C123</td>\n",
       "      <td>S</td>\n",
       "    </tr>\n",
       "    <tr>\n",
       "      <th>5</th>\n",
       "      <td>0</td>\n",
       "      <td>3</td>\n",
       "      <td>Allen, Mr. William Henry</td>\n",
       "      <td>male</td>\n",
       "      <td>35.0</td>\n",
       "      <td>0</td>\n",
       "      <td>0</td>\n",
       "      <td>373450</td>\n",
       "      <td>8.0500</td>\n",
       "      <td>NaN</td>\n",
       "      <td>S</td>\n",
       "    </tr>\n",
       "  </tbody>\n",
       "</table>\n",
       "</div>"
      ],
      "text/plain": [
       "             Survived  Pclass  \\\n",
       "PassengerId                     \n",
       "1                   0       3   \n",
       "2                   1       1   \n",
       "3                   1       3   \n",
       "4                   1       1   \n",
       "5                   0       3   \n",
       "\n",
       "                                                          Name     Sex   Age  \\\n",
       "PassengerId                                                                    \n",
       "1                                      Braund, Mr. Owen Harris    male  22.0   \n",
       "2            Cumings, Mrs. John Bradley (Florence Briggs Th...  female  38.0   \n",
       "3                                       Heikkinen, Miss. Laina  female  26.0   \n",
       "4                 Futrelle, Mrs. Jacques Heath (Lily May Peel)  female  35.0   \n",
       "5                                     Allen, Mr. William Henry    male  35.0   \n",
       "\n",
       "             SibSp  Parch            Ticket     Fare Cabin Embarked  \n",
       "PassengerId                                                          \n",
       "1                1      0         A/5 21171   7.2500   NaN        S  \n",
       "2                1      0          PC 17599  71.2833   C85        C  \n",
       "3                0      0  STON/O2. 3101282   7.9250   NaN        S  \n",
       "4                1      0            113803  53.1000  C123        S  \n",
       "5                0      0            373450   8.0500   NaN        S  "
      ]
     },
     "execution_count": 3,
     "metadata": {},
     "output_type": "execute_result"
    }
   ],
   "source": [
    "train_df.head()"
   ]
  },
  {
   "cell_type": "markdown",
   "metadata": {},
   "source": [
    "From kaggle:\n",
    "\n",
    "**pclass**: A proxy for socio-economic status (SES)  \n",
    "&emsp; 1st = Upper  \n",
    "&emsp; 2nd = Middle  \n",
    "&emsp; 3rd = Lower\n",
    "\n",
    "**age**: Age is fractional if less than 1. If the age is estimated, is it in the form of xx.5\n",
    "\n",
    "**sibsp**: The dataset defines family relations in this way...  \n",
    "&emsp; Sibling = brother, sister, stepbrother, stepsister  \n",
    "&emsp; Spouse = husband, wife (mistresses and fiancés were ignored)\n",
    "\n",
    "**parch**: The dataset defines family relations in this way...  \n",
    "&emsp; Parent = mother, father  \n",
    "&emsp; Child = daughter, son, stepdaughter, stepson  \n",
    "&emsp; Some children travelled only with a nanny, therefore parch=0 for them.\n",
    "\n",
    "**embarked**: Port of Embarkation  \n",
    "&emsp; C = Cherbourg  \n",
    "&emsp; Q = Queenstown  \n",
    "&emsp; S = Southampton"
   ]
  },
  {
   "cell_type": "code",
   "execution_count": 4,
   "metadata": {
    "execution": {
     "iopub.execute_input": "2022-11-14T14:04:00.214801Z",
     "iopub.status.busy": "2022-11-14T14:04:00.214546Z",
     "iopub.status.idle": "2022-11-14T14:04:00.399733Z",
     "shell.execute_reply": "2022-11-14T14:04:00.396789Z",
     "shell.execute_reply.started": "2022-11-14T14:04:00.214777Z"
    }
   },
   "outputs": [
    {
     "name": "stdout",
     "output_type": "stream",
     "text": [
      "<class 'pandas.core.frame.DataFrame'>\n",
      "Int64Index: 891 entries, 1 to 891\n",
      "Data columns (total 11 columns):\n",
      " #   Column    Non-Null Count  Dtype  \n",
      "---  ------    --------------  -----  \n",
      " 0   Survived  891 non-null    int64  \n",
      " 1   Pclass    891 non-null    int64  \n",
      " 2   Name      891 non-null    object \n",
      " 3   Sex       891 non-null    object \n",
      " 4   Age       714 non-null    float64\n",
      " 5   SibSp     891 non-null    int64  \n",
      " 6   Parch     891 non-null    int64  \n",
      " 7   Ticket    891 non-null    object \n",
      " 8   Fare      891 non-null    float64\n",
      " 9   Cabin     204 non-null    object \n",
      " 10  Embarked  889 non-null    object \n",
      "dtypes: float64(2), int64(4), object(5)\n",
      "memory usage: 83.5+ KB\n"
     ]
    }
   ],
   "source": [
    "train_df.info()"
   ]
  },
  {
   "cell_type": "markdown",
   "metadata": {},
   "source": [
    "`Age`, `Cabin` and `Embarked` columns have missing values.\n",
    "\n",
    "`Name`, `Sex`, `Ticket`, `Cabin` and `Embarked` columns contain string values."
   ]
  },
  {
   "cell_type": "code",
   "execution_count": 5,
   "metadata": {
    "execution": {
     "iopub.execute_input": "2022-11-14T14:04:00.404602Z",
     "iopub.status.busy": "2022-11-14T14:04:00.403370Z",
     "iopub.status.idle": "2022-11-14T14:04:00.813372Z",
     "shell.execute_reply": "2022-11-14T14:04:00.812623Z",
     "shell.execute_reply.started": "2022-11-14T14:04:00.404520Z"
    }
   },
   "outputs": [
    {
     "data": {
      "text/html": [
       "<div>\n",
       "<style scoped>\n",
       "    .dataframe tbody tr th:only-of-type {\n",
       "        vertical-align: middle;\n",
       "    }\n",
       "\n",
       "    .dataframe tbody tr th {\n",
       "        vertical-align: top;\n",
       "    }\n",
       "\n",
       "    .dataframe thead th {\n",
       "        text-align: right;\n",
       "    }\n",
       "</style>\n",
       "<table border=\"1\" class=\"dataframe\">\n",
       "  <thead>\n",
       "    <tr style=\"text-align: right;\">\n",
       "      <th></th>\n",
       "      <th>Survived</th>\n",
       "      <th>Pclass</th>\n",
       "      <th>Age</th>\n",
       "      <th>SibSp</th>\n",
       "      <th>Parch</th>\n",
       "      <th>Fare</th>\n",
       "    </tr>\n",
       "  </thead>\n",
       "  <tbody>\n",
       "    <tr>\n",
       "      <th>count</th>\n",
       "      <td>891.000000</td>\n",
       "      <td>891.000000</td>\n",
       "      <td>714.000000</td>\n",
       "      <td>891.000000</td>\n",
       "      <td>891.000000</td>\n",
       "      <td>891.000000</td>\n",
       "    </tr>\n",
       "    <tr>\n",
       "      <th>mean</th>\n",
       "      <td>0.383838</td>\n",
       "      <td>2.308642</td>\n",
       "      <td>29.699118</td>\n",
       "      <td>0.523008</td>\n",
       "      <td>0.381594</td>\n",
       "      <td>32.204208</td>\n",
       "    </tr>\n",
       "    <tr>\n",
       "      <th>std</th>\n",
       "      <td>0.486592</td>\n",
       "      <td>0.836071</td>\n",
       "      <td>14.526497</td>\n",
       "      <td>1.102743</td>\n",
       "      <td>0.806057</td>\n",
       "      <td>49.693429</td>\n",
       "    </tr>\n",
       "    <tr>\n",
       "      <th>min</th>\n",
       "      <td>0.000000</td>\n",
       "      <td>1.000000</td>\n",
       "      <td>0.420000</td>\n",
       "      <td>0.000000</td>\n",
       "      <td>0.000000</td>\n",
       "      <td>0.000000</td>\n",
       "    </tr>\n",
       "    <tr>\n",
       "      <th>25%</th>\n",
       "      <td>0.000000</td>\n",
       "      <td>2.000000</td>\n",
       "      <td>20.125000</td>\n",
       "      <td>0.000000</td>\n",
       "      <td>0.000000</td>\n",
       "      <td>7.910400</td>\n",
       "    </tr>\n",
       "    <tr>\n",
       "      <th>50%</th>\n",
       "      <td>0.000000</td>\n",
       "      <td>3.000000</td>\n",
       "      <td>28.000000</td>\n",
       "      <td>0.000000</td>\n",
       "      <td>0.000000</td>\n",
       "      <td>14.454200</td>\n",
       "    </tr>\n",
       "    <tr>\n",
       "      <th>75%</th>\n",
       "      <td>1.000000</td>\n",
       "      <td>3.000000</td>\n",
       "      <td>38.000000</td>\n",
       "      <td>1.000000</td>\n",
       "      <td>0.000000</td>\n",
       "      <td>31.000000</td>\n",
       "    </tr>\n",
       "    <tr>\n",
       "      <th>max</th>\n",
       "      <td>1.000000</td>\n",
       "      <td>3.000000</td>\n",
       "      <td>80.000000</td>\n",
       "      <td>8.000000</td>\n",
       "      <td>6.000000</td>\n",
       "      <td>512.329200</td>\n",
       "    </tr>\n",
       "  </tbody>\n",
       "</table>\n",
       "</div>"
      ],
      "text/plain": [
       "         Survived      Pclass         Age       SibSp       Parch        Fare\n",
       "count  891.000000  891.000000  714.000000  891.000000  891.000000  891.000000\n",
       "mean     0.383838    2.308642   29.699118    0.523008    0.381594   32.204208\n",
       "std      0.486592    0.836071   14.526497    1.102743    0.806057   49.693429\n",
       "min      0.000000    1.000000    0.420000    0.000000    0.000000    0.000000\n",
       "25%      0.000000    2.000000   20.125000    0.000000    0.000000    7.910400\n",
       "50%      0.000000    3.000000   28.000000    0.000000    0.000000   14.454200\n",
       "75%      1.000000    3.000000   38.000000    1.000000    0.000000   31.000000\n",
       "max      1.000000    3.000000   80.000000    8.000000    6.000000  512.329200"
      ]
     },
     "execution_count": 5,
     "metadata": {},
     "output_type": "execute_result"
    }
   ],
   "source": [
    "train_df.describe()"
   ]
  },
  {
   "cell_type": "code",
   "execution_count": 6,
   "metadata": {
    "execution": {
     "iopub.execute_input": "2022-11-14T14:04:00.814524Z",
     "iopub.status.busy": "2022-11-14T14:04:00.814254Z",
     "iopub.status.idle": "2022-11-14T14:04:02.591731Z",
     "shell.execute_reply": "2022-11-14T14:04:02.591074Z",
     "shell.execute_reply.started": "2022-11-14T14:04:00.814499Z"
    },
    "tags": []
   },
   "outputs": [
    {
     "data": {
      "image/png": "[encoded data removed]",
      "text/plain": [
       "<Figure size 1000x700 with 6 Axes>"
      ]
     },
     "metadata": {},
     "output_type": "display_data"
    }
   ],
   "source": [
    "axes = train_df.hist(figsize=(10, 7))\n",
    "\n",
    "for ax in axes.flatten():\n",
    "    ax.grid(color=\"gainsboro\")\n",
    "    ax.set_axisbelow(True)"
   ]
  },
  {
   "cell_type": "code",
   "execution_count": 7,
   "metadata": {
    "execution": {
     "iopub.execute_input": "2022-11-14T14:04:02.592761Z",
     "iopub.status.busy": "2022-11-14T14:04:02.592535Z",
     "iopub.status.idle": "2022-11-14T14:04:02.598613Z",
     "shell.execute_reply": "2022-11-14T14:04:02.597828Z",
     "shell.execute_reply.started": "2022-11-14T14:04:02.592731Z"
    },
    "tags": []
   },
   "outputs": [],
   "source": [
    "def apply_cmap_to_hist(\n",
    "    n: np.ndarray,\n",
    "    patches: mpl.container.BarContainer,\n",
    "    ax: mpl.axes.Axes,\n",
    "    cm: str = \"seismic\",\n",
    "):\n",
    "    cmap = plt.get_cmap(cm)\n",
    "\n",
    "    y_span = n.max() - n.min()\n",
    "    y_delta = n - n.min()\n",
    "    normalized_col = y_delta / y_span\n",
    "\n",
    "    for c, p in zip(normalized_col, patches):\n",
    "        plt.setp(p, \"facecolor\", cmap(c))\n",
    "\n",
    "    plt.colorbar(mpl.cm.ScalarMappable(cmap=cmap), ax=ax)"
   ]
  },
  {
   "cell_type": "code",
   "execution_count": 8,
   "metadata": {
    "execution": {
     "iopub.execute_input": "2022-11-14T14:04:02.599693Z",
     "iopub.status.busy": "2022-11-14T14:04:02.599402Z",
     "iopub.status.idle": "2022-11-14T14:04:02.979784Z",
     "shell.execute_reply": "2022-11-14T14:04:02.977172Z",
     "shell.execute_reply.started": "2022-11-14T14:04:02.599665Z"
    },
    "tags": []
   },
   "outputs": [],
   "source": [
    "def cmap_hist_by(\n",
    "    *,\n",
    "    value: np.ndarray,\n",
    "    patches: mpl.container.BarContainer,\n",
    "    ax: mpl.axes.Axes,\n",
    "    clb_title: str,\n",
    "    cm: str = \"seismic_r\",\n",
    "):\n",
    "    cmap = plt.get_cmap(cm)\n",
    "\n",
    "    for v, p in zip(value, patches):\n",
    "        plt.setp(p, \"facecolor\", cmap(v))\n",
    "\n",
    "    clb = plt.colorbar(mpl.cm.ScalarMappable(cmap=cmap), ax=ax)\n",
    "    clb.set_label(clb_title)"
   ]
  },
  {
   "cell_type": "code",
   "execution_count": 9,
   "metadata": {
    "execution": {
     "iopub.execute_input": "2022-11-14T14:04:02.984292Z",
     "iopub.status.busy": "2022-11-14T14:04:02.983123Z",
     "iopub.status.idle": "2022-11-14T14:04:03.359756Z",
     "shell.execute_reply": "2022-11-14T14:04:03.356814Z",
     "shell.execute_reply.started": "2022-11-14T14:04:02.984174Z"
    },
    "tags": []
   },
   "outputs": [],
   "source": [
    "def get_survived_cuts_mean(\n",
    "    df: pd.DataFrame, column_cutted: str, bins: int or list, retbins: bool = True\n",
    ") -> np.ndarray:\n",
    "    survived_cuts, survived_bins = pd.cut(\n",
    "        df[column_cutted], bins=10, right=False, retbins=retbins\n",
    "    )\n",
    "\n",
    "    survived_cuts_mean = train_df.groupby(survived_cuts).Survived.mean().to_numpy()\n",
    "\n",
    "    if retbins:\n",
    "        return survived_cuts_mean, survived_bins\n",
    "    return survived_cuts_mean"
   ]
  },
  {
   "cell_type": "code",
   "execution_count": 10,
   "metadata": {
    "execution": {
     "iopub.execute_input": "2022-11-14T14:04:03.364203Z",
     "iopub.status.busy": "2022-11-14T14:04:03.363046Z",
     "iopub.status.idle": "2022-11-14T14:04:03.880129Z",
     "shell.execute_reply": "2022-11-14T14:04:03.879501Z",
     "shell.execute_reply.started": "2022-11-14T14:04:03.364087Z"
    },
    "tags": []
   },
   "outputs": [
    {
     "data": {
      "text/plain": [
       "Text(0.5, 0, 'Pclass')"
      ]
     },
     "execution_count": 10,
     "metadata": {},
     "output_type": "execute_result"
    },
    {
     "data": {
      "image/png": "[encoded data removed]",
      "text/plain": [
       "<Figure size 700x500 with 2 Axes>"
      ]
     },
     "metadata": {},
     "output_type": "display_data"
    }
   ],
   "source": [
    "fig, ax = plt.subplots(1, 1, figsize=(7, 5))\n",
    "\n",
    "survived_cuts_mean, survived_bins = get_survived_cuts_mean(train_df, \"Pclass\", bins=10)\n",
    "\n",
    "n, bins, patches = ax.hist(train_df.Pclass, bins=survived_bins)\n",
    "\n",
    "cmap_hist_by(\n",
    "    value=survived_cuts_mean,\n",
    "    patches=patches,\n",
    "    ax=ax,\n",
    "    clb_title=\"Survived\"\n",
    ")\n",
    "\n",
    "ax.set_ylabel(\"Number of people\")\n",
    "ax.set_xticks([1, 2, 3])\n",
    "ax.set_xlabel(\"Pclass\")"
   ]
  },
  {
   "cell_type": "code",
   "execution_count": 11,
   "metadata": {
    "execution": {
     "iopub.execute_input": "2022-11-14T14:04:03.881219Z",
     "iopub.status.busy": "2022-11-14T14:04:03.880914Z",
     "iopub.status.idle": "2022-11-14T14:04:04.299946Z",
     "shell.execute_reply": "2022-11-14T14:04:04.299395Z",
     "shell.execute_reply.started": "2022-11-14T14:04:03.881193Z"
    },
    "tags": []
   },
   "outputs": [
    {
     "data": {
      "text/plain": [
       "Text(0.5, 0, 'Age')"
      ]
     },
     "execution_count": 11,
     "metadata": {},
     "output_type": "execute_result"
    },
    {
     "data": {
      "image/png": "[encoded data removed]",
      "text/plain": [
       "<Figure size 700x500 with 2 Axes>"
      ]
     },
     "metadata": {},
     "output_type": "display_data"
    }
   ],
   "source": [
    "fig, ax = plt.subplots(figsize=(7, 5))\n",
    "\n",
    "survived_cuts_mean, survived_bins = get_survived_cuts_mean(train_df, \"Age\", bins=10)\n",
    "\n",
    "n, bins, patches = ax.hist(train_df.Age, bins=survived_bins)\n",
    "\n",
    "cmap_hist_by(\n",
    "    value=survived_cuts_mean,\n",
    "    patches=patches,\n",
    "    ax=ax,\n",
    "    clb_title=\"Survived\",\n",
    ")\n",
    "\n",
    "ax.set_ylabel(\"Number of people\")\n",
    "ax.set_xlabel(\"Age\")"
   ]
  }
 ],
 "metadata": {
  "kernelspec": {
   "display_name": "Python 3 Base",
   "language": "python",
   "name": "python3"
  },
  "language_info": {
   "codemirror_mode": {
    "name": "ipython",
    "version": 3
   },
   "file_extension": ".py",
   "mimetype": "text/x-python",
   "name": "python",
   "nbconvert_exporter": "python",
   "pygments_lexer": "ipython3",
   "version": "3.8.10"
  },
  "vscode": {
   "interpreter": {
    "hash": "9ee7d37a95cd0bf7d59da217c49804551e8ef3ff02e88e3927176aaf77660115"
   }
  }
 },
 "nbformat": 4,
 "nbformat_minor": 4
}
