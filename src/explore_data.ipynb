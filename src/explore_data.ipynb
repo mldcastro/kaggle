{
 "cells": [
  {
   "cell_type": "code",
   "execution_count": null,
   "metadata": {
    "tags": []
   },
   "outputs": [],
   "source": [
    "import numpy as np\n",
    "import pandas as pd\n",
    "import matplotlib.pyplot as plt\n",
    "import matplotlib as mpl"
   ]
  },
  {
   "cell_type": "markdown",
   "metadata": {},
   "source": [
    "# Load datasets"
   ]
  },
  {
   "cell_type": "code",
   "execution_count": null,
   "metadata": {
    "tags": []
   },
   "outputs": [],
   "source": [
    "PATH_TRAIN_DATASET = \"../datasets/train.csv\"\n",
    "PATH_TEST_DATASET = \"../datasets/test.csv\"\n",
    "\n",
    "train_df = pd.read_csv(PATH_TRAIN_DATASET, index_col=0)\n",
    "test_df = pd.read_csv(PATH_TEST_DATASET, index_col=0)"
   ]
  },
  {
   "cell_type": "markdown",
   "metadata": {},
   "source": [
    "# Explore train data"
   ]
  },
  {
   "cell_type": "code",
   "execution_count": null,
   "metadata": {},
   "outputs": [],
   "source": [
    "train_df.head()"
   ]
  },
  {
   "cell_type": "markdown",
   "metadata": {},
   "source": [
    "From kaggle:\n",
    "\n",
    "**pclass**: A proxy for socio-economic status (SES)  \n",
    "&emsp; 1st = Upper  \n",
    "&emsp; 2nd = Middle  \n",
    "&emsp; 3rd = Lower\n",
    "\n",
    "**age**: Age is fractional if less than 1. If the age is estimated, is it in the form of xx.5\n",
    "\n",
    "**sibsp**: The dataset defines family relations in this way...  \n",
    "&emsp; Sibling = brother, sister, stepbrother, stepsister  \n",
    "&emsp; Spouse = husband, wife (mistresses and fiancés were ignored)\n",
    "\n",
    "**parch**: The dataset defines family relations in this way...  \n",
    "&emsp; Parent = mother, father  \n",
    "&emsp; Child = daughter, son, stepdaughter, stepson  \n",
    "&emsp; Some children travelled only with a nanny, therefore parch=0 for them.\n",
    "\n",
    "**embarked**: Port of Embarkation  \n",
    "&emsp; C = Cherbourg  \n",
    "&emsp; Q = Queenstown  \n",
    "&emsp; S = Southampton"
   ]
  },
  {
   "cell_type": "code",
   "execution_count": null,
   "metadata": {},
   "outputs": [],
   "source": [
    "train_df.info()"
   ]
  },
  {
   "cell_type": "markdown",
   "metadata": {},
   "source": [
    "`Age`, `Cabin` and `Embarked` columns have missing values.\n",
    "\n",
    "`Name`, `Sex`, `Ticket`, `Cabin` and `Embarked` columns contain string values."
   ]
  },
  {
   "cell_type": "code",
   "execution_count": null,
   "metadata": {
    "tags": []
   },
   "outputs": [],
   "source": [
    "train_df.Ticket.unique().size"
   ]
  },
  {
   "cell_type": "code",
   "execution_count": null,
   "metadata": {},
   "outputs": [],
   "source": [
    "train_df.describe()"
   ]
  },
  {
   "cell_type": "code",
   "execution_count": null,
   "metadata": {
    "tags": []
   },
   "outputs": [],
   "source": [
    "axes = train_df.hist(figsize=(10, 7))\n",
    "\n",
    "for ax in axes.flatten():\n",
    "    ax.grid(color=\"gainsboro\")\n",
    "    ax.set_axisbelow(True)"
   ]
  },
  {
   "cell_type": "code",
   "execution_count": null,
   "metadata": {
    "tags": []
   },
   "outputs": [],
   "source": [
    "def cmap_hist_by(\n",
    "    *,\n",
    "    value: np.ndarray,\n",
    "    patches: mpl.container.BarContainer,\n",
    "    ax: mpl.axes.Axes,\n",
    "    clb_title: str,\n",
    "    cm: str = \"seismic_r\",\n",
    "):\n",
    "    cmap = plt.get_cmap(cm)\n",
    "\n",
    "    for v, p in zip(value, patches):\n",
    "        plt.setp(p, \"facecolor\", cmap(v))\n",
    "\n",
    "    clb = plt.colorbar(mpl.cm.ScalarMappable(cmap=cmap), ax=ax)\n",
    "    clb.set_label(clb_title)"
   ]
  },
  {
   "cell_type": "code",
   "execution_count": null,
   "metadata": {
    "tags": []
   },
   "outputs": [],
   "source": [
    "def get_survived_cuts_mean(\n",
    "    df: pd.DataFrame, column_cutted: str, bins: int or list, retbins: bool = True\n",
    ") -> np.ndarray:\n",
    "    survived_cuts, survived_bins = pd.cut(\n",
    "        df[column_cutted], bins=10, right=False, retbins=retbins\n",
    "    )\n",
    "\n",
    "    survived_cuts_mean = df.groupby(survived_cuts).Survived.mean().to_numpy()\n",
    "\n",
    "    if retbins:\n",
    "        return survived_cuts_mean, survived_bins\n",
    "    return survived_cuts_mean"
   ]
  },
  {
   "cell_type": "code",
   "execution_count": null,
   "metadata": {
    "tags": []
   },
   "outputs": [],
   "source": [
    "train_df_numeric = train_df.select_dtypes(\"number\")\n",
    "_columns = train_df_numeric.columns.drop(\"Survived\")\n",
    "\n",
    "fig, axs = plt.subplots(3, 2, figsize=(2 * 5, 3 * 3.1), sharey=True)\n",
    "axs[2, 1].set_axis_off()\n",
    "\n",
    "for ax, col in zip(axs.flatten(), _columns):\n",
    "    survived_cuts_mean, survived_bins = get_survived_cuts_mean(train_df, col, bins=10)\n",
    "    n, bins, patches = ax.hist(train_df_numeric[col], bins=survived_bins)\n",
    "\n",
    "    cmap_hist_by(\n",
    "        value=survived_cuts_mean,\n",
    "        patches=patches,\n",
    "        ax=ax,\n",
    "        clb_title=\"Survived\",\n",
    "    )\n",
    "\n",
    "    ax.set_ylabel(\"Number of people\")\n",
    "    ax.set_xlabel(col)"
   ]
  },
  {
   "cell_type": "code",
   "execution_count": null,
   "metadata": {
    "tags": []
   },
   "outputs": [],
   "source": [
    "male = train_df.set_index(\"Sex\").loc[\"male\"]\n",
    "female = train_df.set_index(\"Sex\").loc[\"female\"]"
   ]
  },
  {
   "cell_type": "code",
   "execution_count": null,
   "metadata": {
    "tags": []
   },
   "outputs": [],
   "source": [
    "train_df.Embarked.dropna().unique()"
   ]
  },
  {
   "cell_type": "code",
   "execution_count": null,
   "metadata": {
    "tags": []
   },
   "outputs": [],
   "source": [
    "train_df.groupby(\"Sex\", as_index=False).Survived.mean().to_numpy()[:, 1]"
   ]
  },
  {
   "cell_type": "code",
   "execution_count": null,
   "metadata": {
    "tags": []
   },
   "outputs": [],
   "source": [
    "fig, axs = plt.subplots(1, 2, figsize=(2 * 6, 4), sharey=True)\n",
    "\n",
    "sex_survived_mean = train_df.groupby(\"Sex\", as_index=False).Survived.mean().to_numpy()\n",
    "embarked_survived_mean = (\n",
    "    train_df.groupby(\"Embarked\", as_index=False).Survived.mean().to_numpy()\n",
    ")\n",
    "\n",
    "axs[0].bar(sex_survived_mean[:, 0], sex_survived_mean[:, 1])\n",
    "axs[1].bar(embarked_survived_mean[:, 0], embarked_survived_mean[:, 1])\n",
    "\n",
    "axs[0].set_ylabel(\"Survived\")\n",
    "\n",
    "for ax in axs.flatten():\n",
    "    ax.set_ylim(0, 1)\n",
    "    ax.grid(color=\"gainsboro\")\n",
    "    ax.set_axisbelow(True)"
   ]
  },
  {
   "cell_type": "markdown",
   "metadata": {},
   "source": [
    "# Pre-process data to feed ML model"
   ]
  },
  {
   "cell_type": "markdown",
   "metadata": {},
   "source": [
    "`Cabin` has so much missing values that probably the best approach is to <font color='red'>remove</font> this column.  \n",
    "`Name` holds no critical information, so the best approach is to <font color='red'>remove</font> this column.  \n",
    "`Ticket` has 681 unique values among the 891, probably we won't find any correlation between  \n",
    "survived ones and its tickets, so the best approach is to <font color='red'>remove</font> this column. "
   ]
  },
  {
   "cell_type": "code",
   "execution_count": null,
   "metadata": {
    "tags": []
   },
   "outputs": [],
   "source": [
    "train_df = train_df.drop(columns=[\"Name\", \"Cabin\", \"Ticket\"])\n",
    "test_df = test_df.drop(columns=[\"Name\", \"Cabin\", \"Ticket\"])"
   ]
  },
  {
   "cell_type": "code",
   "execution_count": null,
   "metadata": {
    "tags": []
   },
   "outputs": [],
   "source": [
    "from sklearn.preprocessing import OrdinalEncoder\n",
    "\n",
    "ord_encoder = OrdinalEncoder()\n",
    "\n",
    "sex_ord_encoder = ord_encoder.fit_transform(\n",
    "    train_df.Sex.to_numpy().reshape(-1, 1)\n",
    ").flatten()\n",
    "\n",
    "embarked_ord_encoder = ord_encoder.fit_transform(\n",
    "    train_df.Embarked.to_numpy().reshape(-1, 1)\n",
    ").flatten()"
   ]
  },
  {
   "cell_type": "code",
   "execution_count": null,
   "metadata": {
    "tags": []
   },
   "outputs": [],
   "source": [
    "embarked_ord_encoder"
   ]
  }
 ],
 "metadata": {
  "kernelspec": {
   "display_name": "Python 3 Base",
   "language": "python",
   "name": "python3"
  },
  "language_info": {
   "codemirror_mode": {
    "name": "ipython",
    "version": 3
   },
   "file_extension": ".py",
   "mimetype": "text/x-python",
   "name": "python",
   "nbconvert_exporter": "python",
   "pygments_lexer": "ipython3",
   "version": "3.8.10"
  },
  "vscode": {
   "interpreter": {
    "hash": "9ee7d37a95cd0bf7d59da217c49804551e8ef3ff02e88e3927176aaf77660115"
   }
  }
 },
 "nbformat": 4,
 "nbformat_minor": 4
}
